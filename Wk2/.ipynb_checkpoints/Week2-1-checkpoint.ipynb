{
 "cells": [
  {
   "cell_type": "code",
   "execution_count": 2,
   "metadata": {},
   "outputs": [],
   "source": [
    "import tensorflow as tf"
   ]
  },
  {
   "cell_type": "code",
   "execution_count": 5,
   "metadata": {},
   "outputs": [
    {
     "name": "stdout",
     "output_type": "stream",
     "text": [
      "tf.Tensor(0, shape=(), dtype=int64)\n",
      "tf.Tensor(1, shape=(), dtype=int64)\n",
      "tf.Tensor(2, shape=(), dtype=int64)\n",
      "tf.Tensor(3, shape=(), dtype=int64)\n",
      "tf.Tensor(4, shape=(), dtype=int64)\n",
      "tf.Tensor(5, shape=(), dtype=int64)\n",
      "tf.Tensor(6, shape=(), dtype=int64)\n",
      "tf.Tensor(7, shape=(), dtype=int64)\n",
      "tf.Tensor(8, shape=(), dtype=int64)\n",
      "tf.Tensor(9, shape=(), dtype=int64)\n",
      "\n",
      "\n",
      "\n",
      "0\n",
      "1\n",
      "2\n",
      "3\n",
      "4\n",
      "5\n",
      "6\n",
      "7\n",
      "8\n",
      "9\n"
     ]
    }
   ],
   "source": [
    "dataset = tf.data.Dataset.range(10)\n",
    "for data in dataset:\n",
    "    print(data)\n",
    "print(\"\\n\\n\")\n",
    "for data in dataset:\n",
    "    print(data.numpy())"
   ]
  },
  {
   "cell_type": "code",
   "execution_count": 14,
   "metadata": {},
   "outputs": [
    {
     "name": "stdout",
     "output_type": "stream",
     "text": [
      "0 1 2 3 4 \n",
      "1 2 3 4 5 \n",
      "2 3 4 5 6 \n",
      "3 4 5 6 7 \n",
      "4 5 6 7 8 \n",
      "5 6 7 8 9 \n",
      "6 7 8 9 \n",
      "7 8 9 \n",
      "8 9 \n",
      "9 \n"
     ]
    }
   ],
   "source": [
    "dataset = tf.data.Dataset.range(10)\n",
    "dataset = dataset.window(5,shift=1)\n",
    "for data_window in dataset:\n",
    "    for data in data_window:\n",
    "        print(data.numpy(),end=\" \")\n",
    "    print()"
   ]
  },
  {
   "cell_type": "code",
   "execution_count": 17,
   "metadata": {},
   "outputs": [
    {
     "name": "stdout",
     "output_type": "stream",
     "text": [
      "0 1 2 3 4 \n",
      "1 2 3 4 5 \n",
      "2 3 4 5 6 \n",
      "3 4 5 6 7 \n",
      "4 5 6 7 8 \n",
      "5 6 7 8 9 \n"
     ]
    }
   ],
   "source": [
    "dataset = tf.data.Dataset.range(10)\n",
    "dataset = dataset.window(5,shift=1,drop_remainder=True)\n",
    "for data_window in dataset:\n",
    "    for data in data_window:\n",
    "        print(data.numpy(),end=\" \")\n",
    "    print()"
   ]
  },
  {
   "cell_type": "code",
   "execution_count": 19,
   "metadata": {},
   "outputs": [
    {
     "name": "stdout",
     "output_type": "stream",
     "text": [
      "[0 1 2 3 4]\n",
      "[1 2 3 4 5]\n",
      "[2 3 4 5 6]\n",
      "[3 4 5 6 7]\n",
      "[4 5 6 7 8]\n",
      "[5 6 7 8 9]\n"
     ]
    }
   ],
   "source": [
    "dataset = tf.data.Dataset.range(10)\n",
    "dataset = dataset.window(5,shift=1,drop_remainder=True)\n",
    "dataset = dataset.flat_map(lambda window : window.batch(5))\n",
    "for data_window in dataset:\n",
    "    print(data_window.numpy())"
   ]
  },
  {
   "cell_type": "code",
   "execution_count": 22,
   "metadata": {},
   "outputs": [
    {
     "name": "stdout",
     "output_type": "stream",
     "text": [
      "[0 1 2 3] 4\n",
      "[1 2 3 4] 5\n",
      "[2 3 4 5] 6\n",
      "[3 4 5 6] 7\n",
      "[4 5 6 7] 8\n",
      "[5 6 7 8] 9\n"
     ]
    }
   ],
   "source": [
    "dataset = tf.data.Dataset.range(10)\n",
    "dataset = dataset.window(5,shift=1,drop_remainder=True)\n",
    "dataset = dataset.flat_map(lambda window : window.batch(5))\n",
    "dataset = dataset.map(lambda window : (window[:-1],window[-1]))\n",
    "for x,y in dataset:\n",
    "    print(x.numpy(),y.numpy())"
   ]
  },
  {
   "cell_type": "code",
   "execution_count": 23,
   "metadata": {},
   "outputs": [
    {
     "name": "stdout",
     "output_type": "stream",
     "text": [
      "[0 1 2 3] [4]\n",
      "[1 2 3 4] [5]\n",
      "[2 3 4 5] [6]\n",
      "[3 4 5 6] [7]\n",
      "[4 5 6 7] [8]\n",
      "[5 6 7 8] [9]\n"
     ]
    }
   ],
   "source": [
    "dataset = tf.data.Dataset.range(10)\n",
    "dataset = dataset.window(5,shift=1,drop_remainder=True)\n",
    "dataset = dataset.flat_map(lambda window : window.batch(5))\n",
    "dataset = dataset.map(lambda window : (window[:-1],window[-1:]))\n",
    "for x,y in dataset:\n",
    "    print(x.numpy(),y.numpy())"
   ]
  },
  {
   "cell_type": "code",
   "execution_count": 26,
   "metadata": {},
   "outputs": [
    {
     "name": "stdout",
     "output_type": "stream",
     "text": [
      "[1 2 3 4] [5]\n",
      "[0 1 2 3] [4]\n",
      "[3 4 5 6] [7]\n",
      "[5 6 7 8] [9]\n",
      "[2 3 4 5] [6]\n",
      "[4 5 6 7] [8]\n"
     ]
    }
   ],
   "source": [
    "dataset = tf.data.Dataset.range(10)\n",
    "dataset = dataset.window(5,shift=1,drop_remainder=True)\n",
    "dataset = dataset.flat_map(lambda window : window.batch(5))\n",
    "dataset = dataset.map(lambda window : (window[:-1],window[-1:]))\n",
    "dataset = dataset.shuffle(buffer_size = 10)\n",
    "for x,y in dataset:\n",
    "    print(x.numpy(),y.numpy())"
   ]
  },
  {
   "cell_type": "code",
   "execution_count": 28,
   "metadata": {},
   "outputs": [
    {
     "name": "stdout",
     "output_type": "stream",
     "text": [
      "X :  [[5 6 7 8]\n",
      " [1 2 3 4]]\n",
      "y :  [[9]\n",
      " [5]]\n",
      "X :  [[0 1 2 3]\n",
      " [2 3 4 5]]\n",
      "y :  [[4]\n",
      " [6]]\n",
      "X :  [[3 4 5 6]\n",
      " [4 5 6 7]]\n",
      "y :  [[7]\n",
      " [8]]\n"
     ]
    }
   ],
   "source": [
    "dataset = tf.data.Dataset.range(10)\n",
    "dataset = dataset.window(5,shift=1,drop_remainder=True)\n",
    "dataset = dataset.flat_map(lambda window : window.batch(5))\n",
    "dataset = dataset.map(lambda window : (window[:-1],window[-1:]))\n",
    "dataset = dataset.shuffle(buffer_size = 10)\n",
    "dataset = dataset.batch(2).prefetch(1)\n",
    "for x,y in dataset:\n",
    "    print(\"X : \",x.numpy())\n",
    "    print(\"y : \",y.numpy()) "
   ]
  },
  {
   "cell_type": "code",
   "execution_count": null,
   "metadata": {},
   "outputs": [],
   "source": []
  }
 ],
 "metadata": {
  "kernelspec": {
   "display_name": "Python 3",
   "language": "python",
   "name": "python3"
  },
  "language_info": {
   "codemirror_mode": {
    "name": "ipython",
    "version": 3
   },
   "file_extension": ".py",
   "mimetype": "text/x-python",
   "name": "python",
   "nbconvert_exporter": "python",
   "pygments_lexer": "ipython3",
   "version": "3.7.3"
  }
 },
 "nbformat": 4,
 "nbformat_minor": 2
}
